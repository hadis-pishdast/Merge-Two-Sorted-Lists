{
 "cells": [
  {
   "cell_type": "code",
   "execution_count": 11,
   "metadata": {},
   "outputs": [],
   "source": [
    "# Definition for singly-linked list.\n",
    "# class ListNode:\n",
    "#     def __init__(self, val=0, next=None):\n",
    "#         self.val = val\n",
    "#         self.next = next\n",
    "class Solution:\n",
    "    def mergeTwoLists(self, l1, l2):\n",
    "        dummy = ListNode() #\n",
    "        tail = dummy\n",
    "        \n",
    "        while l1 and l2 : # both lists are not empty\n",
    "            if l1.val < l2.val:\n",
    "                tail.next = l1\n",
    "                l1 = l1.next\n",
    "            else:\n",
    "                tail.next = l2\n",
    "                l2 = l2.next\n",
    "            tail = tail.next\n",
    "        if l1: # l1 is not empty\n",
    "            tail.next = l1\n",
    "        elif l2 : # l2 is not empty\n",
    "            tail.next = l2\n",
    "     \n",
    "        return  dummy.next \n",
    "\n",
    "        \n",
    "        \n",
    "        "
   ]
  },
  {
   "cell_type": "code",
   "execution_count": null,
   "metadata": {},
   "outputs": [],
   "source": []
  },
  {
   "cell_type": "code",
   "execution_count": null,
   "metadata": {},
   "outputs": [],
   "source": []
  }
 ],
 "metadata": {
  "kernelspec": {
   "display_name": "Python 3",
   "language": "python",
   "name": "python3"
  },
  "language_info": {
   "codemirror_mode": {
    "name": "ipython",
    "version": 3
   },
   "file_extension": ".py",
   "mimetype": "text/x-python",
   "name": "python",
   "nbconvert_exporter": "python",
   "pygments_lexer": "ipython3",
   "version": "3.7.0"
  }
 },
 "nbformat": 4,
 "nbformat_minor": 4
}
